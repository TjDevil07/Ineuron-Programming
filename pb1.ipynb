{
 "cells": [
  {
   "cell_type": "code",
   "execution_count": 13,
   "metadata": {},
   "outputs": [
    {
     "name": "stdout",
     "output_type": "stream",
     "text": [
      "Hello Python\n"
     ]
    }
   ],
   "source": [
    "print('Hello Python')"
   ]
  },
  {
   "cell_type": "code",
   "execution_count": 14,
   "metadata": {},
   "outputs": [
    {
     "name": "stdout",
     "output_type": "stream",
     "text": [
      "Addition (a+b) = 30.0\n",
      "Division (a/b) = 0.5\n"
     ]
    }
   ],
   "source": [
    "a=float(input(\"Enter a = \"))\n",
    "b=float(input(\"Enter b = \"))\n",
    "print('Addition (a+b) =',a+b)\n",
    "print('Division (a/b) =',a/b)"
   ]
  },
  {
   "cell_type": "code",
   "execution_count": 15,
   "metadata": {},
   "outputs": [
    {
     "name": "stdout",
     "output_type": "stream",
     "text": [
      "Area of triangle (1/2*b*h) = 100.0\n"
     ]
    }
   ],
   "source": [
    "b=float(input(\"Enter base of triangle = \"))\n",
    "h=float(input(\"Enter height of triangle = \"))\n",
    "print('Area of triangle (1/2*b*h) =',(1/2)*b*h)"
   ]
  },
  {
   "cell_type": "code",
   "execution_count": 16,
   "metadata": {},
   "outputs": [
    {
     "name": "stdout",
     "output_type": "stream",
     "text": [
      "Before Swap\n",
      "a = 10.0\n",
      "b = 20.0\n",
      "After Swap\n",
      "a = 20.0\n",
      "b = 10.0\n"
     ]
    }
   ],
   "source": [
    "a=float(input(\"Enter a = \"))\n",
    "b=float(input(\"Enter b = \"))\n",
    "print('Before Swap')\n",
    "print('a =',a)\n",
    "print('b =',b)\n",
    "a=a+b\n",
    "b=a-b\n",
    "a=a-b\n",
    "print('After Swap')\n",
    "print('a =',a)\n",
    "print('b =',b)"
   ]
  },
  {
   "cell_type": "code",
   "execution_count": 17,
   "metadata": {},
   "outputs": [
    {
     "name": "stdout",
     "output_type": "stream",
     "text": [
      "3\n"
     ]
    }
   ],
   "source": [
    "import random\n",
    "print(random.randint(0,100))"
   ]
  }
 ],
 "metadata": {
  "kernelspec": {
   "display_name": "base",
   "language": "python",
   "name": "python3"
  },
  "language_info": {
   "codemirror_mode": {
    "name": "ipython",
    "version": 3
   },
   "file_extension": ".py",
   "mimetype": "text/x-python",
   "name": "python",
   "nbconvert_exporter": "python",
   "pygments_lexer": "ipython3",
   "version": "3.9.13"
  },
  "orig_nbformat": 4,
  "vscode": {
   "interpreter": {
    "hash": "2753d93045f645efb9b697f8e38582c973dfc63237409cba4d97ff9f6f98a8ee"
   }
  }
 },
 "nbformat": 4,
 "nbformat_minor": 2
}
