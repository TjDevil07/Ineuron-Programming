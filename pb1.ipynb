{
 "cells": [
  {
   "attachments": {},
   "cell_type": "markdown",
   "metadata": {},
   "source": [
    "1. Write a Python program to print \"Hello Python\"?"
   ]
  },
  {
   "cell_type": "code",
   "execution_count": 1,
   "metadata": {},
   "outputs": [
    {
     "name": "stdout",
     "output_type": "stream",
     "text": [
      "Hello Python\n"
     ]
    }
   ],
   "source": [
    "print('Hello Python')"
   ]
  },
  {
   "attachments": {},
   "cell_type": "markdown",
   "metadata": {},
   "source": [
    "2. Write a Python program to do arithmetical operations addition and division.?"
   ]
  },
  {
   "cell_type": "code",
   "execution_count": 2,
   "metadata": {},
   "outputs": [
    {
     "name": "stdout",
     "output_type": "stream",
     "text": [
      "Addition (a+b) = 30.0\n",
      "Division (a/b) = 0.5\n"
     ]
    }
   ],
   "source": [
    "a=float(input(\"Enter a = \"))\n",
    "b=float(input(\"Enter b = \"))\n",
    "print('Addition (a+b) =',a+b)\n",
    "print('Division (a/b) =',a/b)"
   ]
  },
  {
   "attachments": {},
   "cell_type": "markdown",
   "metadata": {},
   "source": [
    "3. Write a Python program to find the area of a triangle?"
   ]
  },
  {
   "cell_type": "code",
   "execution_count": 3,
   "metadata": {},
   "outputs": [
    {
     "name": "stdout",
     "output_type": "stream",
     "text": [
      "Area of triangle (1/2*b*h) = 100.0\n"
     ]
    }
   ],
   "source": [
    "b=float(input(\"Enter base of triangle = \"))\n",
    "h=float(input(\"Enter height of triangle = \"))\n",
    "print('Area of triangle (1/2*b*h) =',(1/2)*b*h)"
   ]
  },
  {
   "attachments": {},
   "cell_type": "markdown",
   "metadata": {},
   "source": [
    "4. Write a Python program to swap two variables?"
   ]
  },
  {
   "cell_type": "code",
   "execution_count": 4,
   "metadata": {},
   "outputs": [
    {
     "name": "stdout",
     "output_type": "stream",
     "text": [
      "Before Swap\n",
      "a = 10.0\n",
      "b = 20.0\n",
      "After Swap\n",
      "a = 20.0\n",
      "b = 10.0\n"
     ]
    }
   ],
   "source": [
    "a=float(input(\"Enter a = \"))\n",
    "b=float(input(\"Enter b = \"))\n",
    "print('Before Swap')\n",
    "print('a =',a)\n",
    "print('b =',b)\n",
    "a=a+b\n",
    "b=a-b\n",
    "a=a-b\n",
    "print('After Swap')\n",
    "print('a =',a)\n",
    "print('b =',b)"
   ]
  },
  {
   "attachments": {},
   "cell_type": "markdown",
   "metadata": {},
   "source": [
    "5. Write a Python program to generate a random number?"
   ]
  },
  {
   "cell_type": "code",
   "execution_count": 5,
   "metadata": {},
   "outputs": [
    {
     "name": "stdout",
     "output_type": "stream",
     "text": [
      "65\n"
     ]
    }
   ],
   "source": [
    "import random\n",
    "print(random.randint(0,100))"
   ]
  }
 ],
 "metadata": {
  "kernelspec": {
   "display_name": "base",
   "language": "python",
   "name": "python3"
  },
  "language_info": {
   "codemirror_mode": {
    "name": "ipython",
    "version": 3
   },
   "file_extension": ".py",
   "mimetype": "text/x-python",
   "name": "python",
   "nbconvert_exporter": "python",
   "pygments_lexer": "ipython3",
   "version": "3.9.13"
  },
  "orig_nbformat": 4,
  "vscode": {
   "interpreter": {
    "hash": "2753d93045f645efb9b697f8e38582c973dfc63237409cba4d97ff9f6f98a8ee"
   }
  }
 },
 "nbformat": 4,
 "nbformat_minor": 2
}
